{
 "cells": [
  {
   "cell_type": "markdown",
   "metadata": {},
   "source": [
    "                                                          LiDAR Point Cloud Vectorization"
   ]
  },
  {
   "cell_type": "markdown",
   "metadata": {},
   "source": [
    "LiDAR Point Cloud Vectorization converts raw LiDAR data into structured vector information.\n",
    "\n",
    "It involves processing 3D point cloud data captured by LiDAR sensors.\n",
    "\n",
    "The process includes noise removal, classification, and feature extraction.\n",
    "\n",
    "Algorithms segment and identify objects like buildings, vegetation, and roads.\n",
    "\n",
    "Vectorization transforms point clouds into polygons, lines, and points.\n"
   ]
  },
  {
   "cell_type": "code",
   "execution_count": 1,
   "metadata": {},
   "outputs": [
    {
     "name": "stdout",
     "output_type": "stream",
     "text": [
      "Jupyter environment detected. Enabling Open3D WebVisualizer.\n",
      "[Open3D INFO] WebRTC GUI backend enabled.\n",
      "[Open3D INFO] WebRTCWindowSystem: HTTP handshake server disabled.\n",
      "2.5.3\n"
     ]
    }
   ],
   "source": [
    "# Base Libraries\n",
    "import numpy as np  # Importing NumPy for numerical operations\n",
    "import matplotlib.pyplot as plt  # Importing Matplotlib for plotting\n",
    "import pandas as pd  # Importing Pandas for data manipulation\n",
    "import tkinter as tk  # Importing Tkinter for GUI components\n",
    "from tkinter import filedialog  # Importing filedialog submodule from Tkinter\n",
    "\n",
    "# 3D Libraries\n",
    "import open3d as o3d  # Importing Open3D for 3D visualization and processing\n",
    "import laspy  # Importing laspy for reading and writing LAS file format\n",
    "print(laspy.__version__)  # Printing laspy version\n",
    "\n",
    "# Geospatial Libraries\n",
    "import rasterio  # Importing rasterio for reading and writing raster data\n",
    "import alphashape as ash  # Importing alphashape for creating alpha shapes\n",
    "import geopandas as gpd  # Importing geopandas for geospatial data manipulation\n",
    "import shapely as sh  # Importing shapely for geometric operations\n",
    "\n",
    "from rasterio.transform import from_origin  # Importing from_origin from rasterio.transform\n",
    "from rasterio.enums import Resampling  # Importing Resampling enumeration from rasterio.enums\n",
    "from rasterio.features import shapes   # Importing shapes function from rasterio.features\n",
    "from shapely.geometry import Polygon    # Importing Polygon class from shapely.geometry\n",
    "\n"
   ]
  },
  {
   "cell_type": "code",
   "execution_count": 2,
   "metadata": {},
   "outputs": [
    {
     "name": "stdout",
     "output_type": "stream",
     "text": [
      "[1 2]\n",
      "['X', 'Y', 'Z', 'intensity', 'return_number', 'number_of_returns', 'scan_direction_flag', 'edge_of_flight_line', 'classification', 'synthetic', 'key_point', 'withheld', 'scan_angle_rank', 'user_data', 'point_source_id', 'gps_time']\n",
      "VLR Attributes: ['__abstractmethods__', '__class__', '__delattr__', '__dict__', '__dir__', '__doc__', '__eq__', '__format__', '__ge__', '__getattribute__', '__gt__', '__hash__', '__init__', '__init_subclass__', '__le__', '__lt__', '__module__', '__ne__', '__new__', '__reduce__', '__reduce_ex__', '__repr__', '__setattr__', '__sizeof__', '__slots__', '__str__', '__subclasshook__', '__weakref__', '_abc_impl', '_description', '_record_id', '_user_id', 'description', 'record_data', 'record_data_bytes', 'record_id', 'user_id']\n",
      "VLR object does not have 'raw_data' attribute.\n"
     ]
    }
   ],
   "source": [
    "las = laspy.read('points.laz')\n",
    "\n",
    "# Exploring the classification areas\n",
    "print(np.unique(las.classification))\n",
    "\n",
    "# Print dimensions' names\n",
    "print([dimension.name for dimension in las.point_format.dimensions])\n",
    "\n",
    "# Check available attributes for the VLR object\n",
    "vlr_attributes = dir(las.vlrs[2])\n",
    "\n",
    "# Print available attributes for the VLR object\n",
    "print(\"VLR Attributes:\", vlr_attributes)\n",
    "\n",
    "# Use the correct attribute based on your requirements\n",
    "# For example, if you want to get the raw data as a string, you might use:\n",
    "if 'raw_data' in vlr_attributes:\n",
    "    crs = las.vlrs[2].raw_data\n",
    "    print(\"CRS Raw Data:\", crs)\n",
    "else:\n",
    "    print(\"VLR object does not have 'raw_data' attribute.\")"
   ]
  },
  {
   "cell_type": "code",
   "execution_count": 3,
   "metadata": {},
   "outputs": [
    {
     "name": "stdout",
     "output_type": "stream",
     "text": [
      "[Open3D WARNING] GLFW Error: WGL: Failed to make context current: The requested transformation operation is not supported. \n",
      "[Open3D WARNING] GLFW Error: WGL: Failed to make context current: The requested transformation operation is not supported. \n",
      "[Open3D WARNING] GLFW Error: WGL: Failed to make context current: The requested transformation operation is not supported. \n"
     ]
    }
   ],
   "source": [
    "# Data preprocessing \n",
    "\n",
    "#mask to filter points\n",
    "pts_mask = las.classification == 1\n",
    "\n",
    "\n",
    "#coordinates\n",
    "xyz_t = np.vstack((las.x[pts_mask],las.y[pts_mask],las.z[pts_mask]))\n",
    "\n",
    "#transformation and visualization\n",
    "pcd_o3d = o3d.geometry.PointCloud()\n",
    "pcd_o3d.points =o3d.utility.Vector3dVector(xyz_t.transpose())\n",
    "\n",
    "#translation of point cloud \n",
    "pcd_center = pcd_o3d.get_center()\n",
    "pcd_o3d.translate(pcd_center)\n",
    "\n",
    "#visualization of result\n",
    "o3d.visualization.draw_geometries([pcd_o3d])\n",
    "\n"
   ]
  },
  {
   "cell_type": "code",
   "execution_count": 4,
   "metadata": {},
   "outputs": [],
   "source": [
    "# Data preprocessing  for ground points\n",
    "\n",
    "#mask to filter points\n",
    "pts_mask = las.classification == 2\n",
    "\n",
    "\n",
    "#coordinates\n",
    "xyz_t = np.vstack((las.x[pts_mask],las.y[pts_mask],las.z[pts_mask]))\n",
    "\n",
    "#transformation and visualization\n",
    "pcd_o3d = o3d.geometry.PointCloud()\n",
    "pcd_o3d.points =o3d.utility.Vector3dVector(xyz_t.transpose())\n",
    "\n",
    "#translation of point cloud \n",
    "pcd_center = pcd_o3d.get_center()\n",
    "pcd_o3d.translate(pcd_center)\n",
    "\n",
    "#visualization of result\n",
    "o3d.visualization.draw_geometries([pcd_o3d])\n",
    "\n"
   ]
  },
  {
   "cell_type": "code",
   "execution_count": 5,
   "metadata": {},
   "outputs": [
    {
     "name": "stdout",
     "output_type": "stream",
     "text": [
      "Average distance between ground and building points: 71.58848959670135 units\n"
     ]
    }
   ],
   "source": [
    "# Mask to filter building points (classification 1)\n",
    "building_mask = las.classification == 1\n",
    "\n",
    "# Mask to filter ground points (classification 2)\n",
    "ground_mask = las.classification == 2\n",
    "\n",
    "# Coordinates of building points\n",
    "xyz_building = np.vstack((las.x[building_mask], las.y[building_mask], las.z[building_mask]))\n",
    "\n",
    "# Coordinates of ground points\n",
    "xyz_ground = np.vstack((las.x[ground_mask], las.y[ground_mask], las.z[ground_mask]))\n",
    "\n",
    "# Downsample the data\n",
    "building_downsampled = xyz_building[:, ::10]  # Adjust the step size as needed\n",
    "ground_downsampled = xyz_ground[:, ::10]\n",
    "\n",
    "# Calculate distances for the downsampled data\n",
    "distances = np.linalg.norm(building_downsampled[:, np.newaxis, :] - ground_downsampled[:, :, np.newaxis], axis=0)\n",
    "\n",
    "# Filter out invalid distances (e.g., distances between the same points)\n",
    "valid_distances = distances[~np.isnan(distances)]\n",
    "\n",
    "# Calculate the average distance\n",
    "avg_distance = np.mean(valid_distances)\n",
    "\n",
    "print(f\"Average distance between ground and building points: {avg_distance} units\")"
   ]
  },
  {
   "cell_type": "code",
   "execution_count": 6,
   "metadata": {},
   "outputs": [
    {
     "name": "stdout",
     "output_type": "stream",
     "text": [
      "Point cloud has 9 clusters\n"
     ]
    }
   ],
   "source": [
    "# Unsupervised clustering using DBSCAN\n",
    "\n",
    "epsilon = 2  # Set the epsilon parameter for DBSCAN\n",
    "min_cluster_points = 100  # Set the minimum number of points in a cluster\n",
    "\n",
    "# Perform DBSCAN clustering on the point cloud\n",
    "labels = np.array(pcd_o3d.cluster_dbscan(eps=epsilon, min_points=min_cluster_points))\n",
    "max_label = labels.max()  # Get the maximum label assigned by DBSCAN\n",
    "print(f\"Point cloud has {max_label+1} clusters\")\n",
    "\n",
    "# Color pattern to generate visualization\n",
    "colors = plt.get_cmap(\"tab20\")(labels / (max_label if max_label > 0 else 1))  # Generate colors based on cluster labels\n",
    "colors[labels < 0] = 0  # Set colors for noise points to black\n",
    "pcd_o3d.colors = o3d.utility.Vector3dVector(colors[:, :3])  # Set colors to the point cloud\n",
    "\n",
    "# Point Cloud Visualization\n",
    "o3d.visualization.draw_geometries([pcd_o3d])  # Visualize the clustered point cloud\n"
   ]
  },
  {
   "cell_type": "code",
   "execution_count": 7,
   "metadata": {},
   "outputs": [],
   "source": [
    "#selection of a particular segment\n",
    "sel = 1\n",
    "segment = pcd_o3d.select_by_index(np.where(labels == sel)[0])\n",
    "o3d.visualization.draw_geometries([segment])"
   ]
  },
  {
   "cell_type": "code",
   "execution_count": 8,
   "metadata": {},
   "outputs": [
    {
     "data": {
      "image/svg+xml": [
       "<svg xmlns=\"http://www.w3.org/2000/svg\" xmlns:xlink=\"http://www.w3.org/1999/xlink\" width=\"100.0\" height=\"100.0\" viewBox=\"1392757.9779404313 7822459.4910558285 3.5519999999087304 4.212000000290573\" preserveAspectRatio=\"xMinYMin meet\"><g transform=\"matrix(1,0,0,-1,0,15644923.194111656)\"><path fill-rule=\"evenodd\" fill=\"#66cc99\" stroke=\"#555555\" stroke-width=\"0.08424000000581146\" opacity=\"0.6\" d=\"M 1392758.9139404313,7822459.647055829 L 1392758.2039404311,7822459.897055829 L 1392758.1339404313,7822460.067055829 L 1392758.7239404311,7822462.157055829 L 1392759.0539404312,7822463.027055828 L 1392759.8439404313,7822463.547055828 L 1392760.7039404311,7822463.017055828 L 1392761.2339404314,7822462.327055829 L 1392761.3739404313,7822461.317055829 L 1392761.2239404311,7822460.9570558285 L 1392760.8739404313,7822460.307055828 L 1392760.3839404313,7822460.097055828 L 1392758.9139404313,7822459.647055829 z\" /></g></svg>"
      ],
      "text/plain": [
       "<POLYGON ((1392758.914 7822459.647, 1392758.204 7822459.897, 1392758.134 782...>"
      ]
     },
     "execution_count": 8,
     "metadata": {},
     "output_type": "execute_result"
    }
   ],
   "source": [
    "# Extracting the outline of the above selection\n",
    "\n",
    "points_2D = np.asarray(segment.points)[:, 0:2]  # Extracting only x and y coordinates from the segment points\n",
    "\n",
    "# Alpha shape \n",
    "\n",
    "# Generate an alpha shape from the 2D points with a specified alpha value\n",
    "building_vector = ash.alphashape(points_2D, alpha=0.5)"
   ]
  },
  {
   "cell_type": "code",
   "execution_count": 9,
   "metadata": {},
   "outputs": [
    {
     "data": {
      "text/html": [
       "<div>\n",
       "<style scoped>\n",
       "    .dataframe tbody tr th:only-of-type {\n",
       "        vertical-align: middle;\n",
       "    }\n",
       "\n",
       "    .dataframe tbody tr th {\n",
       "        vertical-align: top;\n",
       "    }\n",
       "\n",
       "    .dataframe thead th {\n",
       "        text-align: right;\n",
       "    }\n",
       "</style>\n",
       "<table border=\"1\" class=\"dataframe\">\n",
       "  <thead>\n",
       "    <tr style=\"text-align: right;\">\n",
       "      <th></th>\n",
       "      <th>geometry</th>\n",
       "    </tr>\n",
       "  </thead>\n",
       "  <tbody>\n",
       "    <tr>\n",
       "      <th>0</th>\n",
       "      <td>POLYGON ((1392758.914 7822459.647, 1392758.204...</td>\n",
       "    </tr>\n",
       "  </tbody>\n",
       "</table>\n",
       "</div>"
      ],
      "text/plain": [
       "                                            geometry\n",
       "0  POLYGON ((1392758.914 7822459.647, 1392758.204..."
      ]
     },
     "execution_count": 9,
     "metadata": {},
     "output_type": "execute_result"
    }
   ],
   "source": [
    "#storing in geodataframe\n",
    "building_gdf = gpd.GeoDataFrame(geometry=[building_vector],crs='EPSG:26910')\n",
    "building_gdf.head(1)"
   ]
  },
  {
   "cell_type": "code",
   "execution_count": 10,
   "metadata": {},
   "outputs": [
    {
     "name": "stdout",
     "output_type": "stream",
     "text": [
      "The local minima along z axis 17.13783525368464\n",
      "The local maxima along z axis 17.41783525368464\n"
     ]
    },
    {
     "data": {
      "image/png": "[encoded data removed]",
      "text/plain": [
       "<Figure size 640x480 with 1 Axes>"
      ]
     },
     "metadata": {},
     "output_type": "display_data"
    }
   ],
   "source": [
    "\n",
    "points_1D = np.asarray(segment.points)[:, 2]  # Extracting only the z coordinates from the segment points\n",
    "\n",
    "# Print the local minima and maxima along the z-axis\n",
    "print(\"The local minima along the z-axis:\", np.min(points_1D))\n",
    "print(\"The local maxima along the z-axis:\", np.max(points_1D))\n",
    "\n",
    "# Create a histogram of the z-axis coordinates\n",
    "plt.hist(points_1D, bins='auto')  # 'auto' option automatically determines the number of bins\n",
    "plt.title(\"Histogram of above\")  # Set the title of the histogram\n",
    "plt.show()  # Display the histogram\n"
   ]
  },
  {
   "cell_type": "code",
   "execution_count": 11,
   "metadata": {},
   "outputs": [],
   "source": [
    "# 2D to 3D Library\n",
    "\n",
    "# base layer\n",
    "vertices = list(building_vector.exterior.coords)\n",
    "\n",
    "# construct in open3d\n",
    "Polygon_2d = o3d.geometry.LineSet()\n",
    "Polygon_2d.points = o3d.utility.Vector3dVector([point + (0,) for point in vertices])\n",
    "Polygon_2d.lines = o3d.utility.Vector2iVector([(i, (i + 1) % len(vertices)) for i in range(len(vertices))])\n",
    "\n",
    "# show\n",
    "o3d.visualization.draw_geometries([Polygon_2d])\n"
   ]
  },
  {
   "cell_type": "code",
   "execution_count": 12,
   "metadata": {},
   "outputs": [
    {
     "name": "stdout",
     "output_type": "stream",
     "text": [
      "[Open3D WARNING] The number of points is 0 when creating axis-aligned bounding box.\n"
     ]
    }
   ],
   "source": [
    "#genrate some element for the extruded\n",
    "\n",
    "extrusion = o3d.geometry.LineSet()\n",
    "\n",
    "Polygon_2d = o3d.geometry.LineSet()\n",
    "extrusion.points = o3d.utility.Vector3dVector([point + (0,) for point in vertices])\n",
    "extrusion.lines = o3d.utility.Vector2iVector([(i, (i + 1) % len(vertices)) for i in range(len(vertices))])\n",
    "o3d.visualization.draw_geometries([Polygon_2d,extrusion])\n",
    "\n",
    "#plot the vertices\n",
    "\n",
    "temp = Polygon_2d + extrusion\n",
    "temp.points\n",
    "temp_o3d = o3d.geometry.PointCloud()\n",
    "temp_o3d.points = temp.points\n",
    "o3d.visualization.draw_geometries([temp_o3d])\n"
   ]
  },
  {
   "cell_type": "code",
   "execution_count": 13,
   "metadata": {},
   "outputs": [
    {
     "data": {
      "text/plain": [
       "True"
      ]
     },
     "execution_count": 13,
     "metadata": {},
     "output_type": "execute_result"
    }
   ],
   "source": [
    "import open3d as o3d\n",
    "import numpy as np\n",
    "\n",
    "# Create a simple mesh (replace this with your actual mesh creation logic)\n",
    "vertices = np.array([[0, 0, 0], [1, 0, 0], [0, 1, 0]])\n",
    "triangles = np.array([[0, 1, 2]])\n",
    "mesh = o3d.geometry.TriangleMesh()\n",
    "mesh.vertices = o3d.utility.Vector3dVector(vertices)\n",
    "mesh.triangles = o3d.utility.Vector3iVector(triangles)\n",
    "\n",
    "# Translation vector\n",
    "pcd_center = [1, 2, 3]\n",
    "\n",
    "# Translate the mesh\n",
    "mesh.translate(pcd_center)\n",
    "\n",
    "# Now, you can proceed with writing the mesh to a file using write_triangle_mesh\n",
    "output_mesh_path = r'D:\\Resume Project\\Lidar_cloud_data\\house_sample.ply'\n",
    "o3d.io.write_triangle_mesh(output_mesh_path, mesh, write_ascii=False, compressed=True, print_progress=False)\n"
   ]
  }
 ],
 "metadata": {
  "kernelspec": {
   "display_name": "Python 3",
   "language": "python",
   "name": "python3"
  },
  "language_info": {
   "codemirror_mode": {
    "name": "ipython",
    "version": 3
   },
   "file_extension": ".py",
   "mimetype": "text/x-python",
   "name": "python",
   "nbconvert_exporter": "python",
   "pygments_lexer": "ipython3",
   "version": "3.10.9"
  }
 },
 "nbformat": 4,
 "nbformat_minor": 2
}
